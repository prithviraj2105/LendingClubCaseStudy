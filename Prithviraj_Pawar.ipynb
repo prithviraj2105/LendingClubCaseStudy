{
 "cells": [
  {
   "cell_type": "markdown",
   "id": "8dbc2bc5",
   "metadata": {},
   "source": [
    "# EDA of Lending Club Loan Dataset\n",
    "The purpose of this code is to perform exploratory data analysis on the loan dataset available from the The Lending Club. Lending Club is the finanacial company which provide loans to customers for various purpose. The loan data/file contains information about past loan applicants.\n",
    "\n",
    "The aim is to identify variables and patterns which lead to loan default."
   ]
  },
  {
   "cell_type": "code",
   "execution_count": 92,
   "id": "35c25a62",
   "metadata": {},
   "outputs": [],
   "source": [
    "#importing libraries required for the analysis\n",
    "import numpy as np\n",
    "import pandas as pd\n",
    "\n",
    "import seaborn as sns\n",
    "import matplotlib.pyplot as plt\n",
    "\n",
    "#to see all the rows/columns in scrollable window\n",
    "pd.set_option('display.max_columns', None)\n",
    "pd.set_option('display.max_rows', None)"
   ]
  },
  {
   "cell_type": "markdown",
   "id": "192d135b",
   "metadata": {},
   "source": [
    "# Understanding data"
   ]
  },
  {
   "cell_type": "code",
   "execution_count": 552,
   "id": "7e9074fe",
   "metadata": {},
   "outputs": [],
   "source": [
    "#load data from csv to dataframe\n",
    "df=pd.read_csv('loan.csv', low_memory=False)"
   ]
  },
  {
   "cell_type": "code",
   "execution_count": 553,
   "id": "e3cfb8b5",
   "metadata": {},
   "outputs": [
    {
     "data": {
      "text/plain": [
       "(39717, 111)"
      ]
     },
     "execution_count": 553,
     "metadata": {},
     "output_type": "execute_result"
    }
   ],
   "source": [
    "df.shape"
   ]
  },
  {
   "cell_type": "code",
   "execution_count": 554,
   "id": "54846ccd",
   "metadata": {},
   "outputs": [
    {
     "data": {
      "text/plain": [
       "['acc_now_delinq',\n",
       " 'acc_open_past_24mths',\n",
       " 'addr_state',\n",
       " 'all_util',\n",
       " 'annual_inc',\n",
       " 'annual_inc_joint',\n",
       " 'application_type',\n",
       " 'avg_cur_bal',\n",
       " 'bc_open_to_buy',\n",
       " 'bc_util',\n",
       " 'chargeoff_within_12_mths',\n",
       " 'collection_recovery_fee',\n",
       " 'collections_12_mths_ex_med',\n",
       " 'delinq_2yrs',\n",
       " 'delinq_amnt',\n",
       " 'desc',\n",
       " 'dti',\n",
       " 'dti_joint',\n",
       " 'earliest_cr_line',\n",
       " 'emp_length',\n",
       " 'emp_title',\n",
       " 'funded_amnt',\n",
       " 'funded_amnt_inv',\n",
       " 'grade',\n",
       " 'home_ownership',\n",
       " 'id',\n",
       " 'il_util',\n",
       " 'initial_list_status',\n",
       " 'inq_fi',\n",
       " 'inq_last_12m',\n",
       " 'inq_last_6mths',\n",
       " 'installment',\n",
       " 'int_rate',\n",
       " 'issue_d',\n",
       " 'last_credit_pull_d',\n",
       " 'last_pymnt_amnt',\n",
       " 'last_pymnt_d',\n",
       " 'loan_amnt',\n",
       " 'loan_status',\n",
       " 'max_bal_bc',\n",
       " 'member_id',\n",
       " 'mo_sin_old_il_acct',\n",
       " 'mo_sin_old_rev_tl_op',\n",
       " 'mo_sin_rcnt_rev_tl_op',\n",
       " 'mo_sin_rcnt_tl',\n",
       " 'mort_acc',\n",
       " 'mths_since_last_delinq',\n",
       " 'mths_since_last_major_derog',\n",
       " 'mths_since_last_record',\n",
       " 'mths_since_rcnt_il',\n",
       " 'mths_since_recent_bc',\n",
       " 'mths_since_recent_bc_dlq',\n",
       " 'mths_since_recent_inq',\n",
       " 'mths_since_recent_revol_delinq',\n",
       " 'next_pymnt_d',\n",
       " 'num_accts_ever_120_pd',\n",
       " 'num_actv_bc_tl',\n",
       " 'num_actv_rev_tl',\n",
       " 'num_bc_sats',\n",
       " 'num_bc_tl',\n",
       " 'num_il_tl',\n",
       " 'num_op_rev_tl',\n",
       " 'num_rev_accts',\n",
       " 'num_rev_tl_bal_gt_0',\n",
       " 'num_sats',\n",
       " 'num_tl_120dpd_2m',\n",
       " 'num_tl_30dpd',\n",
       " 'num_tl_90g_dpd_24m',\n",
       " 'num_tl_op_past_12m',\n",
       " 'open_acc',\n",
       " 'open_acc_6m',\n",
       " 'open_il_12m',\n",
       " 'open_il_24m',\n",
       " 'open_il_6m',\n",
       " 'open_rv_12m',\n",
       " 'open_rv_24m',\n",
       " 'out_prncp',\n",
       " 'out_prncp_inv',\n",
       " 'pct_tl_nvr_dlq',\n",
       " 'percent_bc_gt_75',\n",
       " 'policy_code',\n",
       " 'pub_rec',\n",
       " 'pub_rec_bankruptcies',\n",
       " 'purpose',\n",
       " 'pymnt_plan',\n",
       " 'recoveries',\n",
       " 'revol_bal',\n",
       " 'revol_util',\n",
       " 'sub_grade',\n",
       " 'tax_liens',\n",
       " 'term',\n",
       " 'title',\n",
       " 'tot_coll_amt',\n",
       " 'tot_cur_bal',\n",
       " 'tot_hi_cred_lim',\n",
       " 'total_acc',\n",
       " 'total_bal_ex_mort',\n",
       " 'total_bal_il',\n",
       " 'total_bc_limit',\n",
       " 'total_cu_tl',\n",
       " 'total_il_high_credit_limit',\n",
       " 'total_pymnt',\n",
       " 'total_pymnt_inv',\n",
       " 'total_rec_int',\n",
       " 'total_rec_late_fee',\n",
       " 'total_rec_prncp',\n",
       " 'total_rev_hi_lim',\n",
       " 'url',\n",
       " 'verification_status',\n",
       " 'verification_status_joint',\n",
       " 'zip_code']"
      ]
     },
     "execution_count": 554,
     "metadata": {},
     "output_type": "execute_result"
    }
   ],
   "source": [
    "#Looking at columns\n",
    "sorted(df.columns)"
   ]
  },
  {
   "cell_type": "markdown",
   "id": "b2a0a4c6",
   "metadata": {},
   "source": [
    "After going through the columns and understanding their meaning through data dictionary following are some insights:\n",
    "\n",
    "Data contains the complete loan data for all loans issued through the time period 2007 to 2011.\n",
    "\n",
    "The target variable in this analysis is 'loan_status' column which contains information of whether the customer has defaulted or not.\n",
    "\n",
    "All variables/columns can be broadly classified into 'consumer attributes' and 'loan attributes'\n",
    "\n",
    "Following is the list of relevant columns prepared by exluding the\n",
    "- Columns/variables/features which are not useful.\n",
    "- Columns/variables/features which are irrelevant to the analysis\n",
    "- Columns/variables/features which have redundant information\n",
    "- Columns/variables/features which will not be available to LC during portfolio risk analysis.\n",
    "\n",
    "['addr_state',\n",
    " 'annual_inc',\n",
    " 'annual_inc_joint',\n",
    " 'application_type',\n",
    " 'dti',\n",
    " 'dti_joint',\n",
    " 'emp_length',\n",
    " 'emp_title',\n",
    " 'grade',\n",
    " 'home_ownership',\n",
    " 'int_rate',\n",
    " 'issue_d',\n",
    " 'loan_amnt',\n",
    " 'loan_status',\n",
    " 'pub_rec',\n",
    " 'pub_rec_bankruptcies',\n",
    " 'purpose',\n",
    " 'pymnt_plan',\n",
    " 'sub_grade',\n",
    " 'tax_liens',\n",
    " 'term',\n",
    " 'verification_status',\n",
    " 'verification_status_joint']"
   ]
  },
  {
   "cell_type": "markdown",
   "id": "1e4fff97",
   "metadata": {},
   "source": [
    "# 1. Data Cleaning\n",
    "\n",
    "## a) Fixing Rows and Columns\n",
    "From above data understanding;\n",
    "- There are no rows which are required to be removed at this stage.\n",
    "- We have identified a list of columns which are required for further analysis so keeping only those columns in data."
   ]
  },
  {
   "cell_type": "code",
   "execution_count": 555,
   "id": "33176634",
   "metadata": {},
   "outputs": [],
   "source": [
    "required_columns = ['addr_state',\n",
    " 'annual_inc',\n",
    " 'annual_inc_joint',\n",
    " 'application_type',\n",
    " 'dti',\n",
    " 'dti_joint',\n",
    " 'emp_length',\n",
    " 'emp_title',\n",
    " 'grade',\n",
    " 'home_ownership',\n",
    " 'id',\n",
    " 'installment',\n",
    " 'int_rate',\n",
    " 'issue_d',\n",
    " 'loan_amnt',\n",
    " 'loan_status',\n",
    " 'pub_rec',\n",
    " 'purpose',\n",
    " 'pymnt_plan',\n",
    " 'sub_grade',\n",
    " 'term',\n",
    " 'verification_status',\n",
    " 'verification_status_joint']"
   ]
  },
  {
   "cell_type": "code",
   "execution_count": 556,
   "id": "f5f5512a",
   "metadata": {},
   "outputs": [],
   "source": [
    "#finding columns to drop\n",
    "columns_to_drop = [col for col in df.columns if col not in required_columns]"
   ]
  },
  {
   "cell_type": "code",
   "execution_count": 557,
   "id": "e539950d",
   "metadata": {},
   "outputs": [],
   "source": [
    "df.drop(labels=columns_to_drop, axis=1, inplace=True)"
   ]
  },
  {
   "cell_type": "markdown",
   "id": "16594130",
   "metadata": {},
   "source": [
    "Columns with 1 unique value or very high percentage of unique values do not help in analysis. Lets check unique value count."
   ]
  },
  {
   "cell_type": "code",
   "execution_count": 558,
   "id": "4dcf3cf8",
   "metadata": {},
   "outputs": [
    {
     "data": {
      "text/html": [
       "<div>\n",
       "<style scoped>\n",
       "    .dataframe tbody tr th:only-of-type {\n",
       "        vertical-align: middle;\n",
       "    }\n",
       "\n",
       "    .dataframe tbody tr th {\n",
       "        vertical-align: top;\n",
       "    }\n",
       "\n",
       "    .dataframe thead th {\n",
       "        text-align: right;\n",
       "    }\n",
       "</style>\n",
       "<table border=\"1\" class=\"dataframe\">\n",
       "  <thead>\n",
       "    <tr style=\"text-align: right;\">\n",
       "      <th></th>\n",
       "      <th>Unique Value Count</th>\n",
       "    </tr>\n",
       "  </thead>\n",
       "  <tbody>\n",
       "    <tr>\n",
       "      <th>verification_status_joint</th>\n",
       "      <td>1</td>\n",
       "    </tr>\n",
       "    <tr>\n",
       "      <th>annual_inc_joint</th>\n",
       "      <td>1</td>\n",
       "    </tr>\n",
       "    <tr>\n",
       "      <th>application_type</th>\n",
       "      <td>1</td>\n",
       "    </tr>\n",
       "    <tr>\n",
       "      <th>pymnt_plan</th>\n",
       "      <td>1</td>\n",
       "    </tr>\n",
       "    <tr>\n",
       "      <th>dti_joint</th>\n",
       "      <td>1</td>\n",
       "    </tr>\n",
       "    <tr>\n",
       "      <th>term</th>\n",
       "      <td>2</td>\n",
       "    </tr>\n",
       "    <tr>\n",
       "      <th>loan_status</th>\n",
       "      <td>3</td>\n",
       "    </tr>\n",
       "    <tr>\n",
       "      <th>verification_status</th>\n",
       "      <td>3</td>\n",
       "    </tr>\n",
       "    <tr>\n",
       "      <th>home_ownership</th>\n",
       "      <td>5</td>\n",
       "    </tr>\n",
       "    <tr>\n",
       "      <th>pub_rec</th>\n",
       "      <td>5</td>\n",
       "    </tr>\n",
       "    <tr>\n",
       "      <th>grade</th>\n",
       "      <td>7</td>\n",
       "    </tr>\n",
       "    <tr>\n",
       "      <th>emp_length</th>\n",
       "      <td>12</td>\n",
       "    </tr>\n",
       "    <tr>\n",
       "      <th>purpose</th>\n",
       "      <td>14</td>\n",
       "    </tr>\n",
       "    <tr>\n",
       "      <th>sub_grade</th>\n",
       "      <td>35</td>\n",
       "    </tr>\n",
       "    <tr>\n",
       "      <th>addr_state</th>\n",
       "      <td>50</td>\n",
       "    </tr>\n",
       "    <tr>\n",
       "      <th>issue_d</th>\n",
       "      <td>55</td>\n",
       "    </tr>\n",
       "    <tr>\n",
       "      <th>int_rate</th>\n",
       "      <td>371</td>\n",
       "    </tr>\n",
       "    <tr>\n",
       "      <th>loan_amnt</th>\n",
       "      <td>885</td>\n",
       "    </tr>\n",
       "    <tr>\n",
       "      <th>dti</th>\n",
       "      <td>2868</td>\n",
       "    </tr>\n",
       "    <tr>\n",
       "      <th>annual_inc</th>\n",
       "      <td>5318</td>\n",
       "    </tr>\n",
       "    <tr>\n",
       "      <th>installment</th>\n",
       "      <td>15383</td>\n",
       "    </tr>\n",
       "    <tr>\n",
       "      <th>emp_title</th>\n",
       "      <td>28821</td>\n",
       "    </tr>\n",
       "    <tr>\n",
       "      <th>id</th>\n",
       "      <td>39717</td>\n",
       "    </tr>\n",
       "  </tbody>\n",
       "</table>\n",
       "</div>"
      ],
      "text/plain": [
       "                           Unique Value Count\n",
       "verification_status_joint                   1\n",
       "annual_inc_joint                            1\n",
       "application_type                            1\n",
       "pymnt_plan                                  1\n",
       "dti_joint                                   1\n",
       "term                                        2\n",
       "loan_status                                 3\n",
       "verification_status                         3\n",
       "home_ownership                              5\n",
       "pub_rec                                     5\n",
       "grade                                       7\n",
       "emp_length                                 12\n",
       "purpose                                    14\n",
       "sub_grade                                  35\n",
       "addr_state                                 50\n",
       "issue_d                                    55\n",
       "int_rate                                  371\n",
       "loan_amnt                                 885\n",
       "dti                                      2868\n",
       "annual_inc                               5318\n",
       "installment                             15383\n",
       "emp_title                               28821\n",
       "id                                      39717"
      ]
     },
     "execution_count": 558,
     "metadata": {},
     "output_type": "execute_result"
    }
   ],
   "source": [
    "pd.DataFrame(df.apply(lambda x: len(x.value_counts(dropna=False)), axis=0), columns=['Unique Value Count']).sort_values(by='Unique Value Count', ascending=True)"
   ]
  },
  {
   "cell_type": "code",
   "execution_count": 559,
   "id": "ba4b5c10",
   "metadata": {},
   "outputs": [
    {
     "data": {
      "text/plain": [
       "(39717, 23)"
      ]
     },
     "execution_count": 559,
     "metadata": {},
     "output_type": "execute_result"
    }
   ],
   "source": [
    "df.shape"
   ]
  },
  {
   "cell_type": "markdown",
   "id": "68c8038e",
   "metadata": {},
   "source": [
    "'application_type','pymnt_plan', 'emp_title', 'id' either have very high percentage of unique values or only one unique value."
   ]
  },
  {
   "cell_type": "code",
   "execution_count": 560,
   "id": "4d2d4fdd",
   "metadata": {},
   "outputs": [],
   "source": [
    "df.drop(['application_type','pymnt_plan', 'emp_title', 'id'], axis=1, inplace=True)"
   ]
  },
  {
   "cell_type": "code",
   "execution_count": 561,
   "id": "166fcd56",
   "metadata": {},
   "outputs": [
    {
     "data": {
      "text/plain": [
       "(39717, 19)"
      ]
     },
     "execution_count": 561,
     "metadata": {},
     "output_type": "execute_result"
    }
   ],
   "source": [
    "df.shape"
   ]
  },
  {
   "cell_type": "markdown",
   "id": "74fd36b3",
   "metadata": {},
   "source": [
    "## a) Fix missing values\n",
    "We will find the percentage of null/missing values in each column to decide whether to remove column."
   ]
  },
  {
   "cell_type": "code",
   "execution_count": 562,
   "id": "ab024912",
   "metadata": {},
   "outputs": [
    {
     "data": {
      "text/plain": [
       "loan_amnt                      0.00000\n",
       "term                           0.00000\n",
       "int_rate                       0.00000\n",
       "installment                    0.00000\n",
       "grade                          0.00000\n",
       "sub_grade                      0.00000\n",
       "emp_length                     2.70665\n",
       "home_ownership                 0.00000\n",
       "annual_inc                     0.00000\n",
       "verification_status            0.00000\n",
       "issue_d                        0.00000\n",
       "loan_status                    0.00000\n",
       "purpose                        0.00000\n",
       "addr_state                     0.00000\n",
       "dti                            0.00000\n",
       "pub_rec                        0.00000\n",
       "annual_inc_joint             100.00000\n",
       "dti_joint                    100.00000\n",
       "verification_status_joint    100.00000\n",
       "dtype: float64"
      ]
     },
     "execution_count": 562,
     "metadata": {},
     "output_type": "execute_result"
    }
   ],
   "source": [
    "#percentage of missing values in each coloumn\n",
    "percentage_of_null_values = (df.isnull().sum()/len(df.index)*100)\n",
    "percentage_of_null_values"
   ]
  },
  {
   "cell_type": "markdown",
   "id": "e3375da5",
   "metadata": {},
   "source": [
    "There are colums 'annual_inc_joint', 'dti_joint' and 'verification_status_joint' which can be removed as all of the values are missing."
   ]
  },
  {
   "cell_type": "code",
   "execution_count": 563,
   "id": "4084cd91",
   "metadata": {},
   "outputs": [],
   "source": [
    "#droppingt columns with 100% missing data\n",
    "df.drop([ 'annual_inc_joint','dti_joint','verification_status_joint'], axis=1, inplace=True)"
   ]
  },
  {
   "cell_type": "code",
   "execution_count": 564,
   "id": "94cda8b9",
   "metadata": {},
   "outputs": [
    {
     "data": {
      "text/plain": [
       "(39717, 16)"
      ]
     },
     "execution_count": 564,
     "metadata": {},
     "output_type": "execute_result"
    }
   ],
   "source": [
    "df.shape"
   ]
  },
  {
   "cell_type": "code",
   "execution_count": 565,
   "id": "14837db1",
   "metadata": {},
   "outputs": [
    {
     "data": {
      "text/plain": [
       "emp_length    2.70665\n",
       "dtype: float64"
      ]
     },
     "execution_count": 565,
     "metadata": {},
     "output_type": "execute_result"
    }
   ],
   "source": [
    "#finding columns with missing values\n",
    "columns_with_missing_values = (df.isnull().sum()/len(df.index))*100\n",
    "columns_with_missing_values[columns_with_missing_values != 0]"
   ]
  },
  {
   "cell_type": "markdown",
   "id": "a8ba921f",
   "metadata": {},
   "source": [
    "Number of missing values is insignificant in above column so will not drop them nor will impute the values."
   ]
  },
  {
   "cell_type": "markdown",
   "id": "642bc852",
   "metadata": {},
   "source": [
    "# Standardize values"
   ]
  },
  {
   "cell_type": "code",
   "execution_count": 566,
   "id": "58291733",
   "metadata": {},
   "outputs": [
    {
     "data": {
      "text/html": [
       "<div>\n",
       "<style scoped>\n",
       "    .dataframe tbody tr th:only-of-type {\n",
       "        vertical-align: middle;\n",
       "    }\n",
       "\n",
       "    .dataframe tbody tr th {\n",
       "        vertical-align: top;\n",
       "    }\n",
       "\n",
       "    .dataframe thead th {\n",
       "        text-align: right;\n",
       "    }\n",
       "</style>\n",
       "<table border=\"1\" class=\"dataframe\">\n",
       "  <thead>\n",
       "    <tr style=\"text-align: right;\">\n",
       "      <th></th>\n",
       "      <th>loan_amnt</th>\n",
       "      <th>installment</th>\n",
       "      <th>annual_inc</th>\n",
       "      <th>dti</th>\n",
       "      <th>pub_rec</th>\n",
       "    </tr>\n",
       "  </thead>\n",
       "  <tbody>\n",
       "    <tr>\n",
       "      <th>count</th>\n",
       "      <td>39717.000000</td>\n",
       "      <td>39717.000000</td>\n",
       "      <td>3.971700e+04</td>\n",
       "      <td>39717.000000</td>\n",
       "      <td>39717.000000</td>\n",
       "    </tr>\n",
       "    <tr>\n",
       "      <th>mean</th>\n",
       "      <td>11219.443815</td>\n",
       "      <td>324.561922</td>\n",
       "      <td>6.896893e+04</td>\n",
       "      <td>13.315130</td>\n",
       "      <td>0.055065</td>\n",
       "    </tr>\n",
       "    <tr>\n",
       "      <th>std</th>\n",
       "      <td>7456.670694</td>\n",
       "      <td>208.874874</td>\n",
       "      <td>6.379377e+04</td>\n",
       "      <td>6.678594</td>\n",
       "      <td>0.237200</td>\n",
       "    </tr>\n",
       "    <tr>\n",
       "      <th>min</th>\n",
       "      <td>500.000000</td>\n",
       "      <td>15.690000</td>\n",
       "      <td>4.000000e+03</td>\n",
       "      <td>0.000000</td>\n",
       "      <td>0.000000</td>\n",
       "    </tr>\n",
       "    <tr>\n",
       "      <th>25%</th>\n",
       "      <td>5500.000000</td>\n",
       "      <td>167.020000</td>\n",
       "      <td>4.040400e+04</td>\n",
       "      <td>8.170000</td>\n",
       "      <td>0.000000</td>\n",
       "    </tr>\n",
       "    <tr>\n",
       "      <th>50%</th>\n",
       "      <td>10000.000000</td>\n",
       "      <td>280.220000</td>\n",
       "      <td>5.900000e+04</td>\n",
       "      <td>13.400000</td>\n",
       "      <td>0.000000</td>\n",
       "    </tr>\n",
       "    <tr>\n",
       "      <th>75%</th>\n",
       "      <td>15000.000000</td>\n",
       "      <td>430.780000</td>\n",
       "      <td>8.230000e+04</td>\n",
       "      <td>18.600000</td>\n",
       "      <td>0.000000</td>\n",
       "    </tr>\n",
       "    <tr>\n",
       "      <th>max</th>\n",
       "      <td>35000.000000</td>\n",
       "      <td>1305.190000</td>\n",
       "      <td>6.000000e+06</td>\n",
       "      <td>29.990000</td>\n",
       "      <td>4.000000</td>\n",
       "    </tr>\n",
       "  </tbody>\n",
       "</table>\n",
       "</div>"
      ],
      "text/plain": [
       "          loan_amnt   installment    annual_inc           dti       pub_rec\n",
       "count  39717.000000  39717.000000  3.971700e+04  39717.000000  39717.000000\n",
       "mean   11219.443815    324.561922  6.896893e+04     13.315130      0.055065\n",
       "std     7456.670694    208.874874  6.379377e+04      6.678594      0.237200\n",
       "min      500.000000     15.690000  4.000000e+03      0.000000      0.000000\n",
       "25%     5500.000000    167.020000  4.040400e+04      8.170000      0.000000\n",
       "50%    10000.000000    280.220000  5.900000e+04     13.400000      0.000000\n",
       "75%    15000.000000    430.780000  8.230000e+04     18.600000      0.000000\n",
       "max    35000.000000   1305.190000  6.000000e+06     29.990000      4.000000"
      ]
     },
     "execution_count": 566,
     "metadata": {},
     "output_type": "execute_result"
    }
   ],
   "source": [
    "df.describe()"
   ]
  },
  {
   "cell_type": "code",
   "execution_count": 567,
   "id": "2f76fc78",
   "metadata": {},
   "outputs": [
    {
     "data": {
      "text/plain": [
       "<Axes: xlabel='annual_inc', ylabel='Count'>"
      ]
     },
     "execution_count": 567,
     "metadata": {},
     "output_type": "execute_result"
    },
    {
     "data": {
      "image/png": "[encoded data removed]",
      "text/plain": [
       "<Figure size 640x480 with 1 Axes>"
      ]
     },
     "metadata": {},
     "output_type": "display_data"
    }
   ],
   "source": [
    "#from above description 'annual_inc'\n",
    "sns.histplot(df[\"annual_inc\"])"
   ]
  },
  {
   "cell_type": "markdown",
   "id": "036011dd",
   "metadata": {},
   "source": [
    "Removing otliers using IQR"
   ]
  },
  {
   "cell_type": "code",
   "execution_count": 568,
   "id": "e3afba49",
   "metadata": {},
   "outputs": [],
   "source": [
    "percentile25 = df['annual_inc'].quantile(0.25)\n",
    "percentile75 = df['annual_inc'].quantile(0.75)"
   ]
  },
  {
   "cell_type": "code",
   "execution_count": 569,
   "id": "9601c628",
   "metadata": {},
   "outputs": [],
   "source": [
    "iqr = percentile75-percentile25"
   ]
  },
  {
   "cell_type": "code",
   "execution_count": 571,
   "id": "88c0dd6d",
   "metadata": {},
   "outputs": [],
   "source": [
    "upper_limit = percentile75 + 1.5 * iqr\n",
    "lower_limit = percentile25 - 1.5 * iqr"
   ]
  },
  {
   "cell_type": "code",
   "execution_count": 572,
   "id": "a43ac9d7",
   "metadata": {},
   "outputs": [],
   "source": [
    "df = df[df['annual_inc'] < upper_limit]\n",
    "df = df[df['annual_inc'] > lower_limit]"
   ]
  },
  {
   "cell_type": "code",
   "execution_count": 573,
   "id": "f91170f3",
   "metadata": {},
   "outputs": [
    {
     "data": {
      "text/plain": [
       "(37874, 16)"
      ]
     },
     "execution_count": 573,
     "metadata": {},
     "output_type": "execute_result"
    }
   ],
   "source": [
    "df.shape"
   ]
  },
  {
   "cell_type": "code",
   "execution_count": 574,
   "id": "b990c945",
   "metadata": {},
   "outputs": [
    {
     "data": {
      "text/plain": [
       "<Axes: xlabel='annual_inc', ylabel='Count'>"
      ]
     },
     "execution_count": 574,
     "metadata": {},
     "output_type": "execute_result"
    },
    {
     "data": {
      "image/png": "[encoded data removed]",
      "text/plain": [
       "<Figure size 640x480 with 1 Axes>"
      ]
     },
     "metadata": {},
     "output_type": "display_data"
    }
   ],
   "source": [
    "sns.histplot(df[\"annual_inc\"])"
   ]
  },
  {
   "cell_type": "markdown",
   "id": "985d1a5f",
   "metadata": {},
   "source": [
    "## c) Fix invalid values"
   ]
  },
  {
   "cell_type": "code",
   "execution_count": 575,
   "id": "d32ed189",
   "metadata": {},
   "outputs": [
    {
     "data": {
      "text/plain": [
       "loan_amnt                int64\n",
       "term                    object\n",
       "int_rate                object\n",
       "installment            float64\n",
       "grade                   object\n",
       "sub_grade               object\n",
       "emp_length              object\n",
       "home_ownership          object\n",
       "annual_inc             float64\n",
       "verification_status     object\n",
       "issue_d                 object\n",
       "loan_status             object\n",
       "purpose                 object\n",
       "addr_state              object\n",
       "dti                    float64\n",
       "pub_rec                  int64\n",
       "dtype: object"
      ]
     },
     "execution_count": 575,
     "metadata": {},
     "output_type": "execute_result"
    }
   ],
   "source": [
    "#Check data types\n",
    "df.dtypes"
   ]
  },
  {
   "cell_type": "code",
   "execution_count": 576,
   "id": "4ccc28d9",
   "metadata": {},
   "outputs": [
    {
     "data": {
      "text/html": [
       "<div>\n",
       "<style scoped>\n",
       "    .dataframe tbody tr th:only-of-type {\n",
       "        vertical-align: middle;\n",
       "    }\n",
       "\n",
       "    .dataframe tbody tr th {\n",
       "        vertical-align: top;\n",
       "    }\n",
       "\n",
       "    .dataframe thead th {\n",
       "        text-align: right;\n",
       "    }\n",
       "</style>\n",
       "<table border=\"1\" class=\"dataframe\">\n",
       "  <thead>\n",
       "    <tr style=\"text-align: right;\">\n",
       "      <th></th>\n",
       "      <th>loan_amnt</th>\n",
       "      <th>term</th>\n",
       "      <th>int_rate</th>\n",
       "      <th>installment</th>\n",
       "      <th>grade</th>\n",
       "      <th>sub_grade</th>\n",
       "      <th>emp_length</th>\n",
       "      <th>home_ownership</th>\n",
       "      <th>annual_inc</th>\n",
       "      <th>verification_status</th>\n",
       "      <th>issue_d</th>\n",
       "      <th>loan_status</th>\n",
       "      <th>purpose</th>\n",
       "      <th>addr_state</th>\n",
       "      <th>dti</th>\n",
       "      <th>pub_rec</th>\n",
       "    </tr>\n",
       "  </thead>\n",
       "  <tbody>\n",
       "    <tr>\n",
       "      <th>0</th>\n",
       "      <td>5000</td>\n",
       "      <td>36 months</td>\n",
       "      <td>10.65%</td>\n",
       "      <td>162.87</td>\n",
       "      <td>B</td>\n",
       "      <td>B2</td>\n",
       "      <td>10+ years</td>\n",
       "      <td>RENT</td>\n",
       "      <td>24000.0</td>\n",
       "      <td>Verified</td>\n",
       "      <td>Dec-11</td>\n",
       "      <td>Fully Paid</td>\n",
       "      <td>credit_card</td>\n",
       "      <td>AZ</td>\n",
       "      <td>27.65</td>\n",
       "      <td>0</td>\n",
       "    </tr>\n",
       "    <tr>\n",
       "      <th>1</th>\n",
       "      <td>2500</td>\n",
       "      <td>60 months</td>\n",
       "      <td>15.27%</td>\n",
       "      <td>59.83</td>\n",
       "      <td>C</td>\n",
       "      <td>C4</td>\n",
       "      <td>&lt; 1 year</td>\n",
       "      <td>RENT</td>\n",
       "      <td>30000.0</td>\n",
       "      <td>Source Verified</td>\n",
       "      <td>Dec-11</td>\n",
       "      <td>Charged Off</td>\n",
       "      <td>car</td>\n",
       "      <td>GA</td>\n",
       "      <td>1.00</td>\n",
       "      <td>0</td>\n",
       "    </tr>\n",
       "    <tr>\n",
       "      <th>2</th>\n",
       "      <td>2400</td>\n",
       "      <td>36 months</td>\n",
       "      <td>15.96%</td>\n",
       "      <td>84.33</td>\n",
       "      <td>C</td>\n",
       "      <td>C5</td>\n",
       "      <td>10+ years</td>\n",
       "      <td>RENT</td>\n",
       "      <td>12252.0</td>\n",
       "      <td>Not Verified</td>\n",
       "      <td>Dec-11</td>\n",
       "      <td>Fully Paid</td>\n",
       "      <td>small_business</td>\n",
       "      <td>IL</td>\n",
       "      <td>8.72</td>\n",
       "      <td>0</td>\n",
       "    </tr>\n",
       "    <tr>\n",
       "      <th>3</th>\n",
       "      <td>10000</td>\n",
       "      <td>36 months</td>\n",
       "      <td>13.49%</td>\n",
       "      <td>339.31</td>\n",
       "      <td>C</td>\n",
       "      <td>C1</td>\n",
       "      <td>10+ years</td>\n",
       "      <td>RENT</td>\n",
       "      <td>49200.0</td>\n",
       "      <td>Source Verified</td>\n",
       "      <td>Dec-11</td>\n",
       "      <td>Fully Paid</td>\n",
       "      <td>other</td>\n",
       "      <td>CA</td>\n",
       "      <td>20.00</td>\n",
       "      <td>0</td>\n",
       "    </tr>\n",
       "    <tr>\n",
       "      <th>4</th>\n",
       "      <td>3000</td>\n",
       "      <td>60 months</td>\n",
       "      <td>12.69%</td>\n",
       "      <td>67.79</td>\n",
       "      <td>B</td>\n",
       "      <td>B5</td>\n",
       "      <td>1 year</td>\n",
       "      <td>RENT</td>\n",
       "      <td>80000.0</td>\n",
       "      <td>Source Verified</td>\n",
       "      <td>Dec-11</td>\n",
       "      <td>Current</td>\n",
       "      <td>other</td>\n",
       "      <td>OR</td>\n",
       "      <td>17.94</td>\n",
       "      <td>0</td>\n",
       "    </tr>\n",
       "  </tbody>\n",
       "</table>\n",
       "</div>"
      ],
      "text/plain": [
       "   loan_amnt        term int_rate  installment grade sub_grade emp_length  \\\n",
       "0       5000   36 months   10.65%       162.87     B        B2  10+ years   \n",
       "1       2500   60 months   15.27%        59.83     C        C4   < 1 year   \n",
       "2       2400   36 months   15.96%        84.33     C        C5  10+ years   \n",
       "3      10000   36 months   13.49%       339.31     C        C1  10+ years   \n",
       "4       3000   60 months   12.69%        67.79     B        B5     1 year   \n",
       "\n",
       "  home_ownership  annual_inc verification_status issue_d  loan_status  \\\n",
       "0           RENT     24000.0            Verified  Dec-11   Fully Paid   \n",
       "1           RENT     30000.0     Source Verified  Dec-11  Charged Off   \n",
       "2           RENT     12252.0        Not Verified  Dec-11   Fully Paid   \n",
       "3           RENT     49200.0     Source Verified  Dec-11   Fully Paid   \n",
       "4           RENT     80000.0     Source Verified  Dec-11      Current   \n",
       "\n",
       "          purpose addr_state    dti  pub_rec  \n",
       "0     credit_card         AZ  27.65        0  \n",
       "1             car         GA   1.00        0  \n",
       "2  small_business         IL   8.72        0  \n",
       "3           other         CA  20.00        0  \n",
       "4           other         OR  17.94        0  "
      ]
     },
     "execution_count": 576,
     "metadata": {},
     "output_type": "execute_result"
    }
   ],
   "source": [
    "df.head()"
   ]
  },
  {
   "cell_type": "markdown",
   "id": "9b913df0",
   "metadata": {},
   "source": [
    "We will remove '%' string from the 'int_rate' column and convert it to numeric."
   ]
  },
  {
   "cell_type": "code",
   "execution_count": 578,
   "id": "e9b65673",
   "metadata": {},
   "outputs": [
    {
     "ename": "AttributeError",
     "evalue": "Can only use .str accessor with string values!",
     "output_type": "error",
     "traceback": [
      "\u001b[0;31m---------------------------------------------------------------------------\u001b[0m",
      "\u001b[0;31mAttributeError\u001b[0m                            Traceback (most recent call last)",
      "Cell \u001b[0;32mIn[578], line 1\u001b[0m\n\u001b[0;32m----> 1\u001b[0m df[\u001b[38;5;124m'\u001b[39m\u001b[38;5;124mint_rate\u001b[39m\u001b[38;5;124m'\u001b[39m] \u001b[38;5;241m=\u001b[39m df[\u001b[38;5;124m'\u001b[39m\u001b[38;5;124mint_rate\u001b[39m\u001b[38;5;124m'\u001b[39m]\u001b[38;5;241m.\u001b[39mstr\u001b[38;5;241m.\u001b[39mstrip(\u001b[38;5;124m'\u001b[39m\u001b[38;5;124m%\u001b[39m\u001b[38;5;124m'\u001b[39m)\u001b[38;5;241m.\u001b[39mastype(\u001b[38;5;124m'\u001b[39m\u001b[38;5;124mfloat\u001b[39m\u001b[38;5;124m'\u001b[39m)\n",
      "File \u001b[0;32m~/anaconda3/lib/python3.11/site-packages/pandas/core/generic.py:5989\u001b[0m, in \u001b[0;36mNDFrame.__getattr__\u001b[0;34m(self, name)\u001b[0m\n\u001b[1;32m   5982\u001b[0m \u001b[38;5;28;01mif\u001b[39;00m (\n\u001b[1;32m   5983\u001b[0m     name \u001b[38;5;129;01mnot\u001b[39;00m \u001b[38;5;129;01min\u001b[39;00m \u001b[38;5;28mself\u001b[39m\u001b[38;5;241m.\u001b[39m_internal_names_set\n\u001b[1;32m   5984\u001b[0m     \u001b[38;5;129;01mand\u001b[39;00m name \u001b[38;5;129;01mnot\u001b[39;00m \u001b[38;5;129;01min\u001b[39;00m \u001b[38;5;28mself\u001b[39m\u001b[38;5;241m.\u001b[39m_metadata\n\u001b[1;32m   5985\u001b[0m     \u001b[38;5;129;01mand\u001b[39;00m name \u001b[38;5;129;01mnot\u001b[39;00m \u001b[38;5;129;01min\u001b[39;00m \u001b[38;5;28mself\u001b[39m\u001b[38;5;241m.\u001b[39m_accessors\n\u001b[1;32m   5986\u001b[0m     \u001b[38;5;129;01mand\u001b[39;00m \u001b[38;5;28mself\u001b[39m\u001b[38;5;241m.\u001b[39m_info_axis\u001b[38;5;241m.\u001b[39m_can_hold_identifiers_and_holds_name(name)\n\u001b[1;32m   5987\u001b[0m ):\n\u001b[1;32m   5988\u001b[0m     \u001b[38;5;28;01mreturn\u001b[39;00m \u001b[38;5;28mself\u001b[39m[name]\n\u001b[0;32m-> 5989\u001b[0m \u001b[38;5;28;01mreturn\u001b[39;00m \u001b[38;5;28mobject\u001b[39m\u001b[38;5;241m.\u001b[39m\u001b[38;5;21m__getattribute__\u001b[39m(\u001b[38;5;28mself\u001b[39m, name)\n",
      "File \u001b[0;32m~/anaconda3/lib/python3.11/site-packages/pandas/core/accessor.py:224\u001b[0m, in \u001b[0;36mCachedAccessor.__get__\u001b[0;34m(self, obj, cls)\u001b[0m\n\u001b[1;32m    221\u001b[0m \u001b[38;5;28;01mif\u001b[39;00m obj \u001b[38;5;129;01mis\u001b[39;00m \u001b[38;5;28;01mNone\u001b[39;00m:\n\u001b[1;32m    222\u001b[0m     \u001b[38;5;66;03m# we're accessing the attribute of the class, i.e., Dataset.geo\u001b[39;00m\n\u001b[1;32m    223\u001b[0m     \u001b[38;5;28;01mreturn\u001b[39;00m \u001b[38;5;28mself\u001b[39m\u001b[38;5;241m.\u001b[39m_accessor\n\u001b[0;32m--> 224\u001b[0m accessor_obj \u001b[38;5;241m=\u001b[39m \u001b[38;5;28mself\u001b[39m\u001b[38;5;241m.\u001b[39m_accessor(obj)\n\u001b[1;32m    225\u001b[0m \u001b[38;5;66;03m# Replace the property with the accessor object. Inspired by:\u001b[39;00m\n\u001b[1;32m    226\u001b[0m \u001b[38;5;66;03m# https://www.pydanny.com/cached-property.html\u001b[39;00m\n\u001b[1;32m    227\u001b[0m \u001b[38;5;66;03m# We need to use object.__setattr__ because we overwrite __setattr__ on\u001b[39;00m\n\u001b[1;32m    228\u001b[0m \u001b[38;5;66;03m# NDFrame\u001b[39;00m\n\u001b[1;32m    229\u001b[0m \u001b[38;5;28mobject\u001b[39m\u001b[38;5;241m.\u001b[39m\u001b[38;5;21m__setattr__\u001b[39m(obj, \u001b[38;5;28mself\u001b[39m\u001b[38;5;241m.\u001b[39m_name, accessor_obj)\n",
      "File \u001b[0;32m~/anaconda3/lib/python3.11/site-packages/pandas/core/strings/accessor.py:181\u001b[0m, in \u001b[0;36mStringMethods.__init__\u001b[0;34m(self, data)\u001b[0m\n\u001b[1;32m    178\u001b[0m \u001b[38;5;28;01mdef\u001b[39;00m \u001b[38;5;21m__init__\u001b[39m(\u001b[38;5;28mself\u001b[39m, data) \u001b[38;5;241m-\u001b[39m\u001b[38;5;241m>\u001b[39m \u001b[38;5;28;01mNone\u001b[39;00m:\n\u001b[1;32m    179\u001b[0m     \u001b[38;5;28;01mfrom\u001b[39;00m \u001b[38;5;21;01mpandas\u001b[39;00m\u001b[38;5;21;01m.\u001b[39;00m\u001b[38;5;21;01mcore\u001b[39;00m\u001b[38;5;21;01m.\u001b[39;00m\u001b[38;5;21;01marrays\u001b[39;00m\u001b[38;5;21;01m.\u001b[39;00m\u001b[38;5;21;01mstring_\u001b[39;00m \u001b[38;5;28;01mimport\u001b[39;00m StringDtype\n\u001b[0;32m--> 181\u001b[0m     \u001b[38;5;28mself\u001b[39m\u001b[38;5;241m.\u001b[39m_inferred_dtype \u001b[38;5;241m=\u001b[39m \u001b[38;5;28mself\u001b[39m\u001b[38;5;241m.\u001b[39m_validate(data)\n\u001b[1;32m    182\u001b[0m     \u001b[38;5;28mself\u001b[39m\u001b[38;5;241m.\u001b[39m_is_categorical \u001b[38;5;241m=\u001b[39m is_categorical_dtype(data\u001b[38;5;241m.\u001b[39mdtype)\n\u001b[1;32m    183\u001b[0m     \u001b[38;5;28mself\u001b[39m\u001b[38;5;241m.\u001b[39m_is_string \u001b[38;5;241m=\u001b[39m \u001b[38;5;28misinstance\u001b[39m(data\u001b[38;5;241m.\u001b[39mdtype, StringDtype)\n",
      "File \u001b[0;32m~/anaconda3/lib/python3.11/site-packages/pandas/core/strings/accessor.py:235\u001b[0m, in \u001b[0;36mStringMethods._validate\u001b[0;34m(data)\u001b[0m\n\u001b[1;32m    232\u001b[0m inferred_dtype \u001b[38;5;241m=\u001b[39m lib\u001b[38;5;241m.\u001b[39minfer_dtype(values, skipna\u001b[38;5;241m=\u001b[39m\u001b[38;5;28;01mTrue\u001b[39;00m)\n\u001b[1;32m    234\u001b[0m \u001b[38;5;28;01mif\u001b[39;00m inferred_dtype \u001b[38;5;129;01mnot\u001b[39;00m \u001b[38;5;129;01min\u001b[39;00m allowed_types:\n\u001b[0;32m--> 235\u001b[0m     \u001b[38;5;28;01mraise\u001b[39;00m \u001b[38;5;167;01mAttributeError\u001b[39;00m(\u001b[38;5;124m\"\u001b[39m\u001b[38;5;124mCan only use .str accessor with string values!\u001b[39m\u001b[38;5;124m\"\u001b[39m)\n\u001b[1;32m    236\u001b[0m \u001b[38;5;28;01mreturn\u001b[39;00m inferred_dtype\n",
      "\u001b[0;31mAttributeError\u001b[0m: Can only use .str accessor with string values!"
     ]
    }
   ],
   "source": [
    "df['int_rate'] = df['int_rate'].str.strip('%').astype('float')"
   ]
  },
  {
   "cell_type": "code",
   "execution_count": 658,
   "id": "d68cb834",
   "metadata": {},
   "outputs": [
    {
     "data": {
      "text/plain": [
       "0    10.65\n",
       "1    15.27\n",
       "2    15.96\n",
       "3    13.49\n",
       "5     7.90\n",
       "Name: int_rate, dtype: float64"
      ]
     },
     "execution_count": 658,
     "metadata": {},
     "output_type": "execute_result"
    }
   ],
   "source": [
    "df['int_rate'].head()"
   ]
  },
  {
   "cell_type": "code",
   "execution_count": 653,
   "id": "d3af93fd",
   "metadata": {},
   "outputs": [],
   "source": [
    "df['issue_d'] = pd.to_datetime(df['issue_d'], format='%b-%y')"
   ]
  },
  {
   "cell_type": "code",
   "execution_count": 654,
   "id": "28be55d8",
   "metadata": {},
   "outputs": [
    {
     "data": {
      "text/plain": [
       "loan_amnt                       int64\n",
       "term                           object\n",
       "int_rate                      float64\n",
       "installment                   float64\n",
       "grade                          object\n",
       "sub_grade                      object\n",
       "emp_length                     object\n",
       "home_ownership                 object\n",
       "annual_inc                    float64\n",
       "verification_status            object\n",
       "issue_d                datetime64[ns]\n",
       "loan_status                    object\n",
       "purpose                        object\n",
       "addr_state                     object\n",
       "dti                           float64\n",
       "pub_rec                        object\n",
       "loan_default                    int64\n",
       "loan_amnt_level              category\n",
       "int_rate_level               category\n",
       "installment_level            category\n",
       "annual_inc_level             category\n",
       "dti_level                    category\n",
       "year                            int32\n",
       "month                           int32\n",
       "dtype: object"
      ]
     },
     "execution_count": 654,
     "metadata": {},
     "output_type": "execute_result"
    }
   ],
   "source": [
    "df.dtypes"
   ]
  },
  {
   "cell_type": "markdown",
   "id": "e37fe0f5",
   "metadata": {},
   "source": [
    "## Filter Data"
   ]
  },
  {
   "cell_type": "markdown",
   "id": "01b06cc9",
   "metadata": {},
   "source": [
    "We will check and remove any duplicate rows."
   ]
  },
  {
   "cell_type": "code",
   "execution_count": 580,
   "id": "467b385d",
   "metadata": {},
   "outputs": [
    {
     "data": {
      "text/plain": [
       "0"
      ]
     },
     "execution_count": 580,
     "metadata": {},
     "output_type": "execute_result"
    }
   ],
   "source": [
    "#find duplicate rows\n",
    "df.duplicated().sum()"
   ]
  },
  {
   "cell_type": "markdown",
   "id": "8e6a4b5e",
   "metadata": {},
   "source": [
    "### Our target variable is 'loan_status' lets understand it"
   ]
  },
  {
   "cell_type": "code",
   "execution_count": 659,
   "id": "a12dc075",
   "metadata": {},
   "outputs": [
    {
     "data": {
      "text/plain": [
       "loan_status\n",
       "Fully Paid     31386\n",
       "Charged Off     5431\n",
       "Name: count, dtype: int64"
      ]
     },
     "execution_count": 659,
     "metadata": {},
     "output_type": "execute_result"
    }
   ],
   "source": [
    "#knowing the values\n",
    "df['loan_status'].value_counts()"
   ]
  },
  {
   "cell_type": "markdown",
   "id": "7641d300",
   "metadata": {},
   "source": [
    "Loan records with 'Current' status will not contribute in analysis of defaulters so will remove the records/rows with 'Current' loan status."
   ]
  },
  {
   "cell_type": "code",
   "execution_count": 582,
   "id": "114ee028",
   "metadata": {},
   "outputs": [],
   "source": [
    "df = df[df['loan_status'] != 'Current']\n",
    "#df['loan_status'] = df['loan_status'].apply(lambda x: 0 if x=='Fully Paid' else 1)\n",
    "\n",
    "#converting loan_status to integer type\n",
    "#df['loan_status'] = df['loan_status'].apply(lambda x: pd.to_numeric(x))"
   ]
  },
  {
   "cell_type": "code",
   "execution_count": 660,
   "id": "c7ee6772",
   "metadata": {},
   "outputs": [
    {
     "data": {
      "text/plain": [
       "loan_status\n",
       "Fully Paid     31386\n",
       "Charged Off     5431\n",
       "Name: count, dtype: int64"
      ]
     },
     "execution_count": 660,
     "metadata": {},
     "output_type": "execute_result"
    }
   ],
   "source": [
    "df['loan_status'].value_counts()"
   ]
  },
  {
   "cell_type": "code",
   "execution_count": 661,
   "id": "7e78870d",
   "metadata": {},
   "outputs": [
    {
     "data": {
      "text/plain": [
       "(36817, 24)"
      ]
     },
     "execution_count": 661,
     "metadata": {},
     "output_type": "execute_result"
    }
   ],
   "source": [
    "df.shape"
   ]
  },
  {
   "cell_type": "markdown",
   "id": "51b56b00",
   "metadata": {},
   "source": [
    "# Data Analysis\n",
    "Our aim is to find variables which lead to 'Charged Off'(Default) status of the loan. To find the impact of other variables in 'loan_status' we will perform Segmented Univariate Analysis and Bivariate Analysis."
   ]
  },
  {
   "cell_type": "code",
   "execution_count": 597,
   "id": "8b76ff6f",
   "metadata": {},
   "outputs": [
    {
     "data": {
      "text/plain": [
       "loan_amnt                 int64\n",
       "term                     object\n",
       "int_rate                float64\n",
       "installment             float64\n",
       "grade                    object\n",
       "sub_grade                object\n",
       "emp_length               object\n",
       "home_ownership           object\n",
       "annual_inc              float64\n",
       "verification_status      object\n",
       "issue_d                  object\n",
       "loan_status              object\n",
       "purpose                  object\n",
       "addr_state               object\n",
       "dti                     float64\n",
       "pub_rec                   int64\n",
       "loan_default              int64\n",
       "loan_amnt_level        category\n",
       "int_rate_level         category\n",
       "dtype: object"
      ]
     },
     "execution_count": 597,
     "metadata": {},
     "output_type": "execute_result"
    }
   ],
   "source": [
    "df.dtypes"
   ]
  },
  {
   "cell_type": "markdown",
   "id": "2f6568bf",
   "metadata": {},
   "source": [
    "## Derived Metrics/Columns"
   ]
  },
  {
   "cell_type": "code",
   "execution_count": 598,
   "id": "be9cb084",
   "metadata": {},
   "outputs": [],
   "source": [
    "df['loan_default'] = df['loan_status'].apply(lambda x: 100 if x=='Charged Off' else 0)"
   ]
  },
  {
   "cell_type": "code",
   "execution_count": 599,
   "id": "977e51d2",
   "metadata": {},
   "outputs": [
    {
     "data": {
      "text/plain": [
       "loan_default\n",
       "0      31386\n",
       "100     5431\n",
       "Name: count, dtype: int64"
      ]
     },
     "execution_count": 599,
     "metadata": {},
     "output_type": "execute_result"
    }
   ],
   "source": [
    "df['loan_default'].value_counts()"
   ]
  },
  {
   "cell_type": "code",
   "execution_count": 613,
   "id": "9c01a52c",
   "metadata": {},
   "outputs": [
    {
     "data": {
      "text/plain": [
       "count    36817.000000\n",
       "mean        14.751338\n",
       "std         35.462177\n",
       "min          0.000000\n",
       "25%          0.000000\n",
       "50%          0.000000\n",
       "75%          0.000000\n",
       "max        100.000000\n",
       "Name: loan_default, dtype: float64"
      ]
     },
     "execution_count": 613,
     "metadata": {},
     "output_type": "execute_result"
    }
   ],
   "source": [
    "df['loan_default'].describe()"
   ]
  },
  {
   "cell_type": "code",
   "execution_count": 600,
   "id": "a9021e1c",
   "metadata": {},
   "outputs": [
    {
     "data": {
      "text/plain": [
       "count    36817.000000\n",
       "mean     10706.805280\n",
       "std       7067.980083\n",
       "min        500.000000\n",
       "25%       5000.000000\n",
       "50%       9250.000000\n",
       "75%      15000.000000\n",
       "max      35000.000000\n",
       "Name: loan_amnt, dtype: float64"
      ]
     },
     "execution_count": 600,
     "metadata": {},
     "output_type": "execute_result"
    }
   ],
   "source": [
    "df['loan_amnt'].describe()"
   ]
  },
  {
   "cell_type": "code",
   "execution_count": 601,
   "id": "fc5a2b9d",
   "metadata": {},
   "outputs": [],
   "source": [
    "bins = [0, 5000, 9250, 15000, 35000]\n",
    "labels = ['low', 'medium', 'high', 'very high']\n",
    "df['loan_amnt_level'] = pd.cut(x = df['loan_amnt'], bins = bins, labels = labels, include_lowest = True)"
   ]
  },
  {
   "cell_type": "code",
   "execution_count": 602,
   "id": "e1565079",
   "metadata": {},
   "outputs": [
    {
     "data": {
      "text/plain": [
       "loan_amnt_level\n",
       "high         10727\n",
       "low           9335\n",
       "medium        9098\n",
       "very high     7657\n",
       "Name: count, dtype: int64"
      ]
     },
     "execution_count": 602,
     "metadata": {},
     "output_type": "execute_result"
    }
   ],
   "source": [
    "df['loan_amnt_level'].value_counts()"
   ]
  },
  {
   "cell_type": "code",
   "execution_count": 592,
   "id": "dc632d0e",
   "metadata": {},
   "outputs": [
    {
     "data": {
      "text/plain": [
       "count    36817.000000\n",
       "mean        11.889986\n",
       "std          3.668766\n",
       "min          5.420000\n",
       "25%          8.940000\n",
       "50%         11.710000\n",
       "75%         14.270000\n",
       "max         24.400000\n",
       "Name: int_rate, dtype: float64"
      ]
     },
     "execution_count": 592,
     "metadata": {},
     "output_type": "execute_result"
    }
   ],
   "source": [
    "df['int_rate'].describe()"
   ]
  },
  {
   "cell_type": "code",
   "execution_count": 603,
   "id": "a6c214a8",
   "metadata": {},
   "outputs": [],
   "source": [
    "bins = [0, 8.94, 11.71, 14.27, 24.40]\n",
    "labels = ['low', 'medium', 'high', 'very high']\n",
    "df['int_rate_level'] = pd.cut(x = df['int_rate'], bins = bins, labels = labels, include_lowest = True)"
   ]
  },
  {
   "cell_type": "code",
   "execution_count": 594,
   "id": "6ac24954",
   "metadata": {},
   "outputs": [
    {
     "data": {
      "text/plain": [
       "int_rate_level\n",
       "low          9453\n",
       "very high    9196\n",
       "medium       9103\n",
       "high         9065\n",
       "Name: count, dtype: int64"
      ]
     },
     "execution_count": 594,
     "metadata": {},
     "output_type": "execute_result"
    }
   ],
   "source": [
    "df['int_rate_level'].value_counts()"
   ]
  },
  {
   "cell_type": "code",
   "execution_count": 604,
   "id": "ff91c50d",
   "metadata": {},
   "outputs": [
    {
     "data": {
      "text/plain": [
       "count    36817.000000\n",
       "mean       312.587151\n",
       "std        199.803230\n",
       "min         15.690000\n",
       "25%        163.300000\n",
       "50%        271.140000\n",
       "75%        409.700000\n",
       "max       1305.190000\n",
       "Name: installment, dtype: float64"
      ]
     },
     "execution_count": 604,
     "metadata": {},
     "output_type": "execute_result"
    }
   ],
   "source": [
    "df['installment'].describe()"
   ]
  },
  {
   "cell_type": "code",
   "execution_count": 605,
   "id": "735a7160",
   "metadata": {},
   "outputs": [],
   "source": [
    "bins = [0, 163.30, 271.14, 409.70, 1305.19]\n",
    "labels = ['low', 'medium', 'high', 'very high']\n",
    "df['installment_level'] = pd.cut(x = df['installment'], bins = bins, labels = labels, include_lowest = True)"
   ]
  },
  {
   "cell_type": "code",
   "execution_count": 368,
   "id": "553d980f",
   "metadata": {},
   "outputs": [
    {
     "data": {
      "text/plain": [
       "installment_level\n",
       "medium       9208\n",
       "low          9205\n",
       "high         9202\n",
       "very high    9202\n",
       "Name: count, dtype: int64"
      ]
     },
     "execution_count": 368,
     "metadata": {},
     "output_type": "execute_result"
    }
   ],
   "source": [
    "df['installment_level'].value_counts()"
   ]
  },
  {
   "cell_type": "code",
   "execution_count": 370,
   "id": "f7e489d0",
   "metadata": {},
   "outputs": [
    {
     "data": {
      "text/plain": [
       "count     36817.000000\n",
       "mean      61222.745181\n",
       "std       28230.572587\n",
       "min        4000.000000\n",
       "25%       40000.000000\n",
       "50%       56000.000000\n",
       "75%       78000.000000\n",
       "max      145008.000000\n",
       "Name: annual_inc, dtype: float64"
      ]
     },
     "execution_count": 370,
     "metadata": {},
     "output_type": "execute_result"
    }
   ],
   "source": [
    "df['annual_inc'].describe()"
   ]
  },
  {
   "cell_type": "code",
   "execution_count": 606,
   "id": "de097389",
   "metadata": {},
   "outputs": [],
   "source": [
    "bins = [0, 40000, 56000, 78000, 145008]\n",
    "labels = ['low', 'medium', 'high', 'very high']\n",
    "df['annual_inc_level'] = pd.cut(x = df['annual_inc'], bins = bins, labels = labels, include_lowest = True)"
   ]
  },
  {
   "cell_type": "code",
   "execution_count": 372,
   "id": "64090af0",
   "metadata": {},
   "outputs": [
    {
     "data": {
      "text/plain": [
       "annual_inc_level\n",
       "low          9698\n",
       "high         9298\n",
       "very high    9085\n",
       "medium       8736\n",
       "Name: count, dtype: int64"
      ]
     },
     "execution_count": 372,
     "metadata": {},
     "output_type": "execute_result"
    }
   ],
   "source": [
    "df['annual_inc_level'].value_counts()"
   ]
  },
  {
   "cell_type": "code",
   "execution_count": 374,
   "id": "dca13409",
   "metadata": {},
   "outputs": [
    {
     "data": {
      "text/plain": [
       "count    36817.000000\n",
       "mean        13.437576\n",
       "std          6.660494\n",
       "min          0.000000\n",
       "25%          8.340000\n",
       "50%         13.570000\n",
       "75%         18.700000\n",
       "max         29.990000\n",
       "Name: dti, dtype: float64"
      ]
     },
     "execution_count": 374,
     "metadata": {},
     "output_type": "execute_result"
    }
   ],
   "source": [
    "df['dti'].describe()"
   ]
  },
  {
   "cell_type": "code",
   "execution_count": 607,
   "id": "e45b39bd",
   "metadata": {},
   "outputs": [],
   "source": [
    "bins = [0, 8.34, 13.57, 18.70, 29.99]\n",
    "labels = ['low', 'medium', 'high', 'very high']\n",
    "df['dti_level'] = pd.cut(x = df['dti'], bins = bins, labels = labels, include_lowest = True)"
   ]
  },
  {
   "cell_type": "code",
   "execution_count": 391,
   "id": "6272d257",
   "metadata": {},
   "outputs": [
    {
     "data": {
      "text/plain": [
       "dti_level\n",
       "low          9218\n",
       "medium       9210\n",
       "high         9195\n",
       "very high    9194\n",
       "Name: count, dtype: int64"
      ]
     },
     "execution_count": 391,
     "metadata": {},
     "output_type": "execute_result"
    }
   ],
   "source": [
    "df['dti_level'].value_counts()"
   ]
  },
  {
   "cell_type": "code",
   "execution_count": 550,
   "id": "50fdd84f",
   "metadata": {},
   "outputs": [
    {
     "data": {
      "text/plain": [
       "0   2011-12-01\n",
       "1   2011-12-01\n",
       "2   2011-12-01\n",
       "3   2011-12-01\n",
       "5   2011-12-01\n",
       "Name: issue_d, dtype: datetime64[ns]"
      ]
     },
     "execution_count": 550,
     "metadata": {},
     "output_type": "execute_result"
    }
   ],
   "source": [
    "df['issue_d'].head()"
   ]
  },
  {
   "cell_type": "code",
   "execution_count": 655,
   "id": "b05aeba9",
   "metadata": {},
   "outputs": [],
   "source": [
    "df['year'] = pd.DatetimeIndex(df['issue_d']).year\n",
    "df['month'] = pd.DatetimeIndex(df['issue_d']).month"
   ]
  },
  {
   "cell_type": "code",
   "execution_count": 656,
   "id": "214fcf60",
   "metadata": {},
   "outputs": [
    {
     "data": {
      "text/plain": [
       "year\n",
       "2011    19533\n",
       "2010    11061\n",
       "2009     4498\n",
       "2008     1494\n",
       "2007      231\n",
       "Name: count, dtype: int64"
      ]
     },
     "execution_count": 656,
     "metadata": {},
     "output_type": "execute_result"
    }
   ],
   "source": [
    "df['year'].value_counts()"
   ]
  },
  {
   "cell_type": "code",
   "execution_count": 657,
   "id": "f9be4439",
   "metadata": {},
   "outputs": [
    {
     "data": {
      "text/plain": [
       "month\n",
       "12    4040\n",
       "11    3834\n",
       "10    3550\n",
       "9     3303\n",
       "8     3230\n",
       "7     3212\n",
       "6     3027\n",
       "5     2800\n",
       "4     2721\n",
       "3     2563\n",
       "1     2274\n",
       "2     2263\n",
       "Name: count, dtype: int64"
      ]
     },
     "execution_count": 657,
     "metadata": {},
     "output_type": "execute_result"
    }
   ],
   "source": [
    "df['month'].value_counts()"
   ]
  },
  {
   "cell_type": "code",
   "execution_count": null,
   "id": "d26d879f",
   "metadata": {},
   "outputs": [],
   "source": [
    "Now the remaining We will convert the following features to ordinal attributes"
   ]
  },
  {
   "cell_type": "code",
   "execution_count": 618,
   "id": "2eedb6b0",
   "metadata": {},
   "outputs": [],
   "source": [
    "df['pub_rec'] = df['pub_rec'].astype(str)\n",
    "#df['pub_rec_bankruptcies'] = df['pub_rec_bankruptcies'].astype(str)\n",
    "df['year'] = df['year'].astype(str)\n",
    "df['month'] = df['month'].astype(str)"
   ]
  },
  {
   "cell_type": "code",
   "execution_count": 622,
   "id": "c84c0f22",
   "metadata": {},
   "outputs": [
    {
     "data": {
      "text/plain": [
       "loan_amnt                       int64\n",
       "term                           object\n",
       "int_rate                      float64\n",
       "installment                   float64\n",
       "grade                          object\n",
       "sub_grade                      object\n",
       "emp_length                     object\n",
       "home_ownership                 object\n",
       "annual_inc                    float64\n",
       "verification_status            object\n",
       "issue_d                datetime64[ns]\n",
       "loan_status                    object\n",
       "purpose                        object\n",
       "addr_state                     object\n",
       "dti                           float64\n",
       "pub_rec                        object\n",
       "loan_default                    int64\n",
       "loan_amnt_level              category\n",
       "int_rate_level               category\n",
       "installment_level            category\n",
       "annual_inc_level             category\n",
       "dti_level                    category\n",
       "year                            int32\n",
       "month                           int32\n",
       "dtype: object"
      ]
     },
     "execution_count": 622,
     "metadata": {},
     "output_type": "execute_result"
    }
   ],
   "source": [
    "df.dtypes"
   ]
  },
  {
   "cell_type": "code",
   "execution_count": 356,
   "id": "9f3416a6",
   "metadata": {},
   "outputs": [],
   "source": [
    "numeric_columns=[\"loan_amnt\",\"int_rate\",\"installment\",\"annual_inc\",\"dti\",\"loan_status\"]"
   ]
  },
  {
   "cell_type": "markdown",
   "id": "b68171f7",
   "metadata": {},
   "source": [
    "# Segmented Univariate Analysis\n",
    "\n",
    "We will use Bar Plots and put 'loan_default' on y-axis so that it will show average defaults in a segment which is also called as 'Loan default rate' in buisness terms."
   ]
  },
  {
   "cell_type": "code",
   "execution_count": 625,
   "id": "17e85194",
   "metadata": {},
   "outputs": [
    {
     "data": {
      "text/plain": [
       "<Axes: xlabel='loan_amnt_level', ylabel='loan_default'>"
      ]
     },
     "execution_count": 625,
     "metadata": {},
     "output_type": "execute_result"
    },
    {
     "data": {
      "image/png": "[encoded data removed]",
      "text/plain": [
       "<Figure size 640x480 with 1 Axes>"
      ]
     },
     "metadata": {},
     "output_type": "display_data"
    }
   ],
   "source": [
    "sns.barplot(x='loan_amnt_level', y='loan_default', data=df)"
   ]
  },
  {
   "cell_type": "code",
   "execution_count": 626,
   "id": "f37daebc",
   "metadata": {},
   "outputs": [
    {
     "data": {
      "text/plain": [
       "<Axes: xlabel='term', ylabel='loan_default'>"
      ]
     },
     "execution_count": 626,
     "metadata": {},
     "output_type": "execute_result"
    },
    {
     "data": {
      "image/png": "[encoded data removed]",
      "text/plain": [
       "<Figure size 640x480 with 1 Axes>"
      ]
     },
     "metadata": {},
     "output_type": "display_data"
    }
   ],
   "source": [
    "sns.barplot(x='term', y='loan_default', data=df)"
   ]
  },
  {
   "cell_type": "code",
   "execution_count": 628,
   "id": "ed07c8b8",
   "metadata": {},
   "outputs": [
    {
     "data": {
      "text/plain": [
       "<Axes: xlabel='int_rate_level', ylabel='loan_default'>"
      ]
     },
     "execution_count": 628,
     "metadata": {},
     "output_type": "execute_result"
    },
    {
     "data": {
      "image/png": "[encoded data removed]",
      "text/plain": [
       "<Figure size 640x480 with 1 Axes>"
      ]
     },
     "metadata": {},
     "output_type": "display_data"
    }
   ],
   "source": [
    "sns.barplot(x='int_rate_level', y='loan_default', data=df)"
   ]
  },
  {
   "cell_type": "code",
   "execution_count": 629,
   "id": "0f6efa44",
   "metadata": {},
   "outputs": [
    {
     "data": {
      "text/plain": [
       "<Axes: xlabel='installment_level', ylabel='loan_default'>"
      ]
     },
     "execution_count": 629,
     "metadata": {},
     "output_type": "execute_result"
    },
    {
     "data": {
      "image/png": "[encoded data removed]",
      "text/plain": [
       "<Figure size 640x480 with 1 Axes>"
      ]
     },
     "metadata": {},
     "output_type": "display_data"
    }
   ],
   "source": [
    "sns.barplot(x='installment_level', y='loan_default', data=df)"
   ]
  },
  {
   "cell_type": "code",
   "execution_count": 630,
   "id": "8913eb7e",
   "metadata": {},
   "outputs": [
    {
     "data": {
      "text/plain": [
       "<Axes: xlabel='grade', ylabel='loan_default'>"
      ]
     },
     "execution_count": 630,
     "metadata": {},
     "output_type": "execute_result"
    },
    {
     "data": {
      "image/png": "[encoded data removed]",
      "text/plain": [
       "<Figure size 640x480 with 1 Axes>"
      ]
     },
     "metadata": {},
     "output_type": "display_data"
    }
   ],
   "source": [
    "sns.barplot(x='grade', y='loan_default', data=df)"
   ]
  },
  {
   "cell_type": "code",
   "execution_count": 633,
   "id": "731e2b04",
   "metadata": {},
   "outputs": [
    {
     "data": {
      "text/plain": [
       "<Axes: xlabel='sub_grade', ylabel='loan_default'>"
      ]
     },
     "execution_count": 633,
     "metadata": {},
     "output_type": "execute_result"
    },
    {
     "data": {
      "image/png": "[encoded data removed]",
      "text/plain": [
       "<Figure size 1500x500 with 1 Axes>"
      ]
     },
     "metadata": {},
     "output_type": "display_data"
    }
   ],
   "source": [
    "plt.figure(figsize=(15,5))\n",
    "sns.barplot(x='sub_grade', y='loan_default', data=df)"
   ]
  },
  {
   "cell_type": "code",
   "execution_count": 634,
   "id": "e614a7c5",
   "metadata": {},
   "outputs": [
    {
     "data": {
      "text/plain": [
       "<Axes: xlabel='emp_length', ylabel='loan_default'>"
      ]
     },
     "execution_count": 634,
     "metadata": {},
     "output_type": "execute_result"
    },
    {
     "data": {
      "image/png": "[encoded data removed]",
      "text/plain": [
       "<Figure size 640x480 with 1 Axes>"
      ]
     },
     "metadata": {},
     "output_type": "display_data"
    }
   ],
   "source": [
    "sns.barplot(x='emp_length', y='loan_default', data=df)"
   ]
  },
  {
   "cell_type": "code",
   "execution_count": 294,
   "id": "ebe9508b",
   "metadata": {},
   "outputs": [
    {
     "data": {
      "text/plain": [
       "<Axes: xlabel='home_ownership', ylabel='default'>"
      ]
     },
     "execution_count": 294,
     "metadata": {},
     "output_type": "execute_result"
    },
    {
     "data": {
      "image/png": "[encoded data removed]",
      "text/plain": [
       "<Figure size 640x480 with 1 Axes>"
      ]
     },
     "metadata": {},
     "output_type": "display_data"
    }
   ],
   "source": [
    "sns.barplot(x='home_ownership', y='loan_default', data=df)"
   ]
  },
  {
   "cell_type": "code",
   "execution_count": 635,
   "id": "4e3d68e0",
   "metadata": {},
   "outputs": [
    {
     "data": {
      "text/plain": [
       "<Axes: xlabel='annual_inc_level', ylabel='loan_default'>"
      ]
     },
     "execution_count": 635,
     "metadata": {},
     "output_type": "execute_result"
    },
    {
     "data": {
      "image/png": "[encoded data removed]",
      "text/plain": [
       "<Figure size 640x480 with 1 Axes>"
      ]
     },
     "metadata": {},
     "output_type": "display_data"
    }
   ],
   "source": [
    "sns.barplot(x='annual_inc_level', y='loan_default', data=df)"
   ]
  },
  {
   "cell_type": "code",
   "execution_count": 636,
   "id": "30c77871",
   "metadata": {},
   "outputs": [
    {
     "data": {
      "text/plain": [
       "<Axes: xlabel='verification_status', ylabel='loan_default'>"
      ]
     },
     "execution_count": 636,
     "metadata": {},
     "output_type": "execute_result"
    },
    {
     "data": {
      "image/png": "[encoded data removed]",
      "text/plain": [
       "<Figure size 1500x500 with 1 Axes>"
      ]
     },
     "metadata": {},
     "output_type": "display_data"
    }
   ],
   "source": [
    "plt.figure(figsize=(15,5))\n",
    "plt.xticks(rotation=45)\n",
    "sns.barplot(x='verification_status', y='loan_default', data=df)"
   ]
  },
  {
   "cell_type": "code",
   "execution_count": 637,
   "id": "b136b71b",
   "metadata": {},
   "outputs": [
    {
     "data": {
      "text/plain": [
       "<Axes: xlabel='year', ylabel='loan_default'>"
      ]
     },
     "execution_count": 637,
     "metadata": {},
     "output_type": "execute_result"
    },
    {
     "data": {
      "image/png": "[encoded data removed]",
      "text/plain": [
       "<Figure size 640x480 with 1 Axes>"
      ]
     },
     "metadata": {},
     "output_type": "display_data"
    }
   ],
   "source": [
    "#dfPlot = df.sort_values(['loan_default']).reset_index(drop=True)\n",
    "sns.barplot(x='year', y='loan_default', data=df)"
   ]
  },
  {
   "cell_type": "code",
   "execution_count": 638,
   "id": "fa7884e4",
   "metadata": {},
   "outputs": [
    {
     "data": {
      "text/plain": [
       "<Axes: xlabel='month', ylabel='loan_default'>"
      ]
     },
     "execution_count": 638,
     "metadata": {},
     "output_type": "execute_result"
    },
    {
     "data": {
      "image/png": "[encoded data removed]",
      "text/plain": [
       "<Figure size 640x480 with 1 Axes>"
      ]
     },
     "metadata": {},
     "output_type": "display_data"
    }
   ],
   "source": [
    "#dfPlot = df.sort_values(['loan_default']).reset_index(drop=True)\n",
    "sns.barplot(x='month', y='loan_default', data=df)"
   ]
  },
  {
   "cell_type": "code",
   "execution_count": 642,
   "id": "35894897",
   "metadata": {},
   "outputs": [
    {
     "data": {
      "text/plain": [
       "<Axes: xlabel='purpose', ylabel='loan_default'>"
      ]
     },
     "execution_count": 642,
     "metadata": {},
     "output_type": "execute_result"
    },
    {
     "data": {
      "image/png": "[encoded data removed]",
      "text/plain": [
       "<Figure size 1500x500 with 1 Axes>"
      ]
     },
     "metadata": {},
     "output_type": "display_data"
    }
   ],
   "source": [
    "plt.figure(figsize=(15,5))\n",
    "plt.xticks(rotation=45)\n",
    "sns.barplot(x='purpose', y='loan_default', data=df)"
   ]
  },
  {
   "cell_type": "code",
   "execution_count": 439,
   "id": "6b9eef94",
   "metadata": {},
   "outputs": [
    {
     "data": {
      "text/plain": [
       "<Axes: xlabel='addr_state', ylabel='loan_default'>"
      ]
     },
     "execution_count": 439,
     "metadata": {},
     "output_type": "execute_result"
    },
    {
     "data": {
      "image/png": "[encoded data removed]",
      "text/plain": [
       "<Figure size 1500x500 with 1 Axes>"
      ]
     },
     "metadata": {},
     "output_type": "display_data"
    }
   ],
   "source": [
    "plt.figure(figsize=(15,5))\n",
    "#dfPlot = df.sort_values(['loan_default']).reset_index(drop=True)\n",
    "sns.barplot(x='addr_state', y='loan_default', data=df)"
   ]
  },
  {
   "cell_type": "markdown",
   "id": "a6c85aaa",
   "metadata": {},
   "source": [
    "There is a spike of default rate in state 'NE' so will have alook at the data."
   ]
  },
  {
   "cell_type": "code",
   "execution_count": 651,
   "id": "f5450112",
   "metadata": {},
   "outputs": [
    {
     "data": {
      "text/html": [
       "<div>\n",
       "<style scoped>\n",
       "    .dataframe tbody tr th:only-of-type {\n",
       "        vertical-align: middle;\n",
       "    }\n",
       "\n",
       "    .dataframe tbody tr th {\n",
       "        vertical-align: top;\n",
       "    }\n",
       "\n",
       "    .dataframe thead th {\n",
       "        text-align: right;\n",
       "    }\n",
       "</style>\n",
       "<table border=\"1\" class=\"dataframe\">\n",
       "  <thead>\n",
       "    <tr style=\"text-align: right;\">\n",
       "      <th></th>\n",
       "      <th>loan_amnt</th>\n",
       "      <th>term</th>\n",
       "      <th>int_rate</th>\n",
       "      <th>installment</th>\n",
       "      <th>grade</th>\n",
       "      <th>sub_grade</th>\n",
       "      <th>emp_length</th>\n",
       "      <th>home_ownership</th>\n",
       "      <th>annual_inc</th>\n",
       "      <th>verification_status</th>\n",
       "      <th>issue_d</th>\n",
       "      <th>loan_status</th>\n",
       "      <th>purpose</th>\n",
       "      <th>addr_state</th>\n",
       "      <th>dti</th>\n",
       "      <th>pub_rec</th>\n",
       "      <th>loan_default</th>\n",
       "      <th>loan_amnt_level</th>\n",
       "      <th>int_rate_level</th>\n",
       "      <th>installment_level</th>\n",
       "      <th>annual_inc_level</th>\n",
       "      <th>dti_level</th>\n",
       "      <th>year</th>\n",
       "      <th>month</th>\n",
       "    </tr>\n",
       "  </thead>\n",
       "  <tbody>\n",
       "    <tr>\n",
       "      <th>38685</th>\n",
       "      <td>7500</td>\n",
       "      <td>36 months</td>\n",
       "      <td>12.61</td>\n",
       "      <td>251.30</td>\n",
       "      <td>D</td>\n",
       "      <td>D1</td>\n",
       "      <td>10+ years</td>\n",
       "      <td>MORTGAGE</td>\n",
       "      <td>75000.0</td>\n",
       "      <td>Not Verified</td>\n",
       "      <td>2008-05-01</td>\n",
       "      <td>Fully Paid</td>\n",
       "      <td>debt_consolidation</td>\n",
       "      <td>NE</td>\n",
       "      <td>20.58</td>\n",
       "      <td>0</td>\n",
       "      <td>0</td>\n",
       "      <td>medium</td>\n",
       "      <td>high</td>\n",
       "      <td>medium</td>\n",
       "      <td>high</td>\n",
       "      <td>very high</td>\n",
       "      <td>2008</td>\n",
       "      <td>5</td>\n",
       "    </tr>\n",
       "    <tr>\n",
       "      <th>39500</th>\n",
       "      <td>14400</td>\n",
       "      <td>36 months</td>\n",
       "      <td>12.80</td>\n",
       "      <td>483.81</td>\n",
       "      <td>D</td>\n",
       "      <td>D4</td>\n",
       "      <td>1 year</td>\n",
       "      <td>RENT</td>\n",
       "      <td>36120.0</td>\n",
       "      <td>Not Verified</td>\n",
       "      <td>2007-12-01</td>\n",
       "      <td>Charged Off</td>\n",
       "      <td>debt_consolidation</td>\n",
       "      <td>NE</td>\n",
       "      <td>8.47</td>\n",
       "      <td>0</td>\n",
       "      <td>100</td>\n",
       "      <td>high</td>\n",
       "      <td>high</td>\n",
       "      <td>very high</td>\n",
       "      <td>low</td>\n",
       "      <td>medium</td>\n",
       "      <td>2007</td>\n",
       "      <td>12</td>\n",
       "    </tr>\n",
       "    <tr>\n",
       "      <th>39651</th>\n",
       "      <td>4800</td>\n",
       "      <td>36 months</td>\n",
       "      <td>11.22</td>\n",
       "      <td>157.66</td>\n",
       "      <td>C</td>\n",
       "      <td>C4</td>\n",
       "      <td>5 years</td>\n",
       "      <td>RENT</td>\n",
       "      <td>30000.0</td>\n",
       "      <td>Not Verified</td>\n",
       "      <td>2007-09-01</td>\n",
       "      <td>Fully Paid</td>\n",
       "      <td>debt_consolidation</td>\n",
       "      <td>NE</td>\n",
       "      <td>12.36</td>\n",
       "      <td>0</td>\n",
       "      <td>0</td>\n",
       "      <td>low</td>\n",
       "      <td>medium</td>\n",
       "      <td>low</td>\n",
       "      <td>low</td>\n",
       "      <td>medium</td>\n",
       "      <td>2007</td>\n",
       "      <td>9</td>\n",
       "    </tr>\n",
       "    <tr>\n",
       "      <th>39667</th>\n",
       "      <td>2500</td>\n",
       "      <td>36 months</td>\n",
       "      <td>12.80</td>\n",
       "      <td>84.00</td>\n",
       "      <td>D</td>\n",
       "      <td>D4</td>\n",
       "      <td>&lt; 1 year</td>\n",
       "      <td>MORTGAGE</td>\n",
       "      <td>32000.0</td>\n",
       "      <td>Not Verified</td>\n",
       "      <td>2007-08-01</td>\n",
       "      <td>Charged Off</td>\n",
       "      <td>home_improvement</td>\n",
       "      <td>NE</td>\n",
       "      <td>20.00</td>\n",
       "      <td>0</td>\n",
       "      <td>100</td>\n",
       "      <td>low</td>\n",
       "      <td>high</td>\n",
       "      <td>low</td>\n",
       "      <td>low</td>\n",
       "      <td>very high</td>\n",
       "      <td>2007</td>\n",
       "      <td>8</td>\n",
       "    </tr>\n",
       "    <tr>\n",
       "      <th>39668</th>\n",
       "      <td>2500</td>\n",
       "      <td>36 months</td>\n",
       "      <td>9.64</td>\n",
       "      <td>80.26</td>\n",
       "      <td>B</td>\n",
       "      <td>B4</td>\n",
       "      <td>&lt; 1 year</td>\n",
       "      <td>MORTGAGE</td>\n",
       "      <td>75000.0</td>\n",
       "      <td>Not Verified</td>\n",
       "      <td>2007-08-01</td>\n",
       "      <td>Charged Off</td>\n",
       "      <td>home_improvement</td>\n",
       "      <td>NE</td>\n",
       "      <td>20.00</td>\n",
       "      <td>0</td>\n",
       "      <td>100</td>\n",
       "      <td>low</td>\n",
       "      <td>medium</td>\n",
       "      <td>low</td>\n",
       "      <td>high</td>\n",
       "      <td>very high</td>\n",
       "      <td>2007</td>\n",
       "      <td>8</td>\n",
       "    </tr>\n",
       "  </tbody>\n",
       "</table>\n",
       "</div>"
      ],
      "text/plain": [
       "       loan_amnt        term  int_rate  installment grade sub_grade  \\\n",
       "38685       7500   36 months     12.61       251.30     D        D1   \n",
       "39500      14400   36 months     12.80       483.81     D        D4   \n",
       "39651       4800   36 months     11.22       157.66     C        C4   \n",
       "39667       2500   36 months     12.80        84.00     D        D4   \n",
       "39668       2500   36 months      9.64        80.26     B        B4   \n",
       "\n",
       "      emp_length home_ownership  annual_inc verification_status    issue_d  \\\n",
       "38685  10+ years       MORTGAGE     75000.0        Not Verified 2008-05-01   \n",
       "39500     1 year           RENT     36120.0        Not Verified 2007-12-01   \n",
       "39651    5 years           RENT     30000.0        Not Verified 2007-09-01   \n",
       "39667   < 1 year       MORTGAGE     32000.0        Not Verified 2007-08-01   \n",
       "39668   < 1 year       MORTGAGE     75000.0        Not Verified 2007-08-01   \n",
       "\n",
       "       loan_status             purpose addr_state    dti pub_rec  \\\n",
       "38685   Fully Paid  debt_consolidation         NE  20.58       0   \n",
       "39500  Charged Off  debt_consolidation         NE   8.47       0   \n",
       "39651   Fully Paid  debt_consolidation         NE  12.36       0   \n",
       "39667  Charged Off    home_improvement         NE  20.00       0   \n",
       "39668  Charged Off    home_improvement         NE  20.00       0   \n",
       "\n",
       "       loan_default loan_amnt_level int_rate_level installment_level  \\\n",
       "38685             0          medium           high            medium   \n",
       "39500           100            high           high         very high   \n",
       "39651             0             low         medium               low   \n",
       "39667           100             low           high               low   \n",
       "39668           100             low         medium               low   \n",
       "\n",
       "      annual_inc_level  dti_level  year  month  \n",
       "38685             high  very high  2008      5  \n",
       "39500              low     medium  2007     12  \n",
       "39651              low     medium  2007      9  \n",
       "39667              low  very high  2007      8  \n",
       "39668             high  very high  2007      8  "
      ]
     },
     "execution_count": 651,
     "metadata": {},
     "output_type": "execute_result"
    }
   ],
   "source": [
    "df[df[\"addr_state\"]=='NE']"
   ]
  },
  {
   "cell_type": "markdown",
   "id": "ce0484a9",
   "metadata": {},
   "source": [
    "The spike is due to very small number of loan records and out of 5 loans 3 have default hence such a high default rate of around 60%. Also default rates do not vary much accross the states so we can conclude that states do not influence much."
   ]
  },
  {
   "cell_type": "code",
   "execution_count": 652,
   "id": "68db9bc0",
   "metadata": {},
   "outputs": [
    {
     "data": {
      "text/plain": [
       "<Axes: xlabel='dti_level', ylabel='loan_default'>"
      ]
     },
     "execution_count": 652,
     "metadata": {},
     "output_type": "execute_result"
    },
    {
     "data": {
      "image/png": "[encoded data removed]",
      "text/plain": [
       "<Figure size 640x480 with 1 Axes>"
      ]
     },
     "metadata": {},
     "output_type": "display_data"
    }
   ],
   "source": [
    "sns.barplot(x='dti_level', y='loan_default', data=df)"
   ]
  },
  {
   "cell_type": "code",
   "execution_count": null,
   "id": "b63d63d0",
   "metadata": {},
   "outputs": [],
   "source": [
    "sns.barplot(x='dti_level', y='loan_default', data=df)"
   ]
  },
  {
   "cell_type": "markdown",
   "id": "ea7543ab",
   "metadata": {},
   "source": [
    "## Bivariate Analysis"
   ]
  },
  {
   "cell_type": "code",
   "execution_count": 615,
   "id": "a354f602",
   "metadata": {},
   "outputs": [
    {
     "ename": "KeyError",
     "evalue": "-1",
     "output_type": "error",
     "traceback": [
      "\u001b[0;31m---------------------------------------------------------------------------\u001b[0m",
      "\u001b[0;31mKeyError\u001b[0m                                  Traceback (most recent call last)",
      "File \u001b[0;32m~/anaconda3/lib/python3.11/site-packages/pandas/core/indexes/base.py:3653\u001b[0m, in \u001b[0;36mIndex.get_loc\u001b[0;34m(self, key)\u001b[0m\n\u001b[1;32m   3652\u001b[0m \u001b[38;5;28;01mtry\u001b[39;00m:\n\u001b[0;32m-> 3653\u001b[0m     \u001b[38;5;28;01mreturn\u001b[39;00m \u001b[38;5;28mself\u001b[39m\u001b[38;5;241m.\u001b[39m_engine\u001b[38;5;241m.\u001b[39mget_loc(casted_key)\n\u001b[1;32m   3654\u001b[0m \u001b[38;5;28;01mexcept\u001b[39;00m \u001b[38;5;167;01mKeyError\u001b[39;00m \u001b[38;5;28;01mas\u001b[39;00m err:\n",
      "File \u001b[0;32m~/anaconda3/lib/python3.11/site-packages/pandas/_libs/index.pyx:147\u001b[0m, in \u001b[0;36mpandas._libs.index.IndexEngine.get_loc\u001b[0;34m()\u001b[0m\n",
      "File \u001b[0;32m~/anaconda3/lib/python3.11/site-packages/pandas/_libs/index.pyx:176\u001b[0m, in \u001b[0;36mpandas._libs.index.IndexEngine.get_loc\u001b[0;34m()\u001b[0m\n",
      "File \u001b[0;32mpandas/_libs/hashtable_class_helper.pxi:2606\u001b[0m, in \u001b[0;36mpandas._libs.hashtable.Int64HashTable.get_item\u001b[0;34m()\u001b[0m\n",
      "File \u001b[0;32mpandas/_libs/hashtable_class_helper.pxi:2630\u001b[0m, in \u001b[0;36mpandas._libs.hashtable.Int64HashTable.get_item\u001b[0;34m()\u001b[0m\n",
      "\u001b[0;31mKeyError\u001b[0m: -1",
      "\nThe above exception was the direct cause of the following exception:\n",
      "\u001b[0;31mKeyError\u001b[0m                                  Traceback (most recent call last)",
      "Cell \u001b[0;32mIn[615], line 8\u001b[0m\n\u001b[1;32m      6\u001b[0m     default_rates \u001b[38;5;241m=\u001b[39m df\u001b[38;5;241m.\u001b[39mgroupby(col)\u001b[38;5;241m.\u001b[39mloan_default\u001b[38;5;241m.\u001b[39mmean()\u001b[38;5;241m.\u001b[39msort_values(ascending\u001b[38;5;241m=\u001b[39m\u001b[38;5;28;01mFalse\u001b[39;00m)\n\u001b[1;32m      7\u001b[0m     \u001b[38;5;66;03m#default_rates = default_rates.sort_values(ascending=False).reset_index(drop=True)\u001b[39;00m\n\u001b[0;32m----> 8\u001b[0m     list1 \u001b[38;5;241m=\u001b[39m [col, \u001b[38;5;28mround\u001b[39m(default_rates[\u001b[38;5;241m0\u001b[39m] \u001b[38;5;241m-\u001b[39m default_rates[\u001b[38;5;241m-\u001b[39m\u001b[38;5;241m1\u001b[39m],\u001b[38;5;241m2\u001b[39m)]\n\u001b[1;32m      9\u001b[0m     list2\u001b[38;5;241m.\u001b[39mappend(list1)\n\u001b[1;32m     10\u001b[0m \u001b[38;5;66;03m#print(list2)\u001b[39;00m\n",
      "File \u001b[0;32m~/anaconda3/lib/python3.11/site-packages/pandas/core/series.py:1007\u001b[0m, in \u001b[0;36mSeries.__getitem__\u001b[0;34m(self, key)\u001b[0m\n\u001b[1;32m   1004\u001b[0m     \u001b[38;5;28;01mreturn\u001b[39;00m \u001b[38;5;28mself\u001b[39m\u001b[38;5;241m.\u001b[39m_values[key]\n\u001b[1;32m   1006\u001b[0m \u001b[38;5;28;01melif\u001b[39;00m key_is_scalar:\n\u001b[0;32m-> 1007\u001b[0m     \u001b[38;5;28;01mreturn\u001b[39;00m \u001b[38;5;28mself\u001b[39m\u001b[38;5;241m.\u001b[39m_get_value(key)\n\u001b[1;32m   1009\u001b[0m \u001b[38;5;28;01mif\u001b[39;00m is_hashable(key):\n\u001b[1;32m   1010\u001b[0m     \u001b[38;5;66;03m# Otherwise index.get_value will raise InvalidIndexError\u001b[39;00m\n\u001b[1;32m   1011\u001b[0m     \u001b[38;5;28;01mtry\u001b[39;00m:\n\u001b[1;32m   1012\u001b[0m         \u001b[38;5;66;03m# For labels that don't resolve as scalars like tuples and frozensets\u001b[39;00m\n",
      "File \u001b[0;32m~/anaconda3/lib/python3.11/site-packages/pandas/core/series.py:1116\u001b[0m, in \u001b[0;36mSeries._get_value\u001b[0;34m(self, label, takeable)\u001b[0m\n\u001b[1;32m   1113\u001b[0m     \u001b[38;5;28;01mreturn\u001b[39;00m \u001b[38;5;28mself\u001b[39m\u001b[38;5;241m.\u001b[39m_values[label]\n\u001b[1;32m   1115\u001b[0m \u001b[38;5;66;03m# Similar to Index.get_value, but we do not fall back to positional\u001b[39;00m\n\u001b[0;32m-> 1116\u001b[0m loc \u001b[38;5;241m=\u001b[39m \u001b[38;5;28mself\u001b[39m\u001b[38;5;241m.\u001b[39mindex\u001b[38;5;241m.\u001b[39mget_loc(label)\n\u001b[1;32m   1118\u001b[0m \u001b[38;5;28;01mif\u001b[39;00m is_integer(loc):\n\u001b[1;32m   1119\u001b[0m     \u001b[38;5;28;01mreturn\u001b[39;00m \u001b[38;5;28mself\u001b[39m\u001b[38;5;241m.\u001b[39m_values[loc]\n",
      "File \u001b[0;32m~/anaconda3/lib/python3.11/site-packages/pandas/core/indexes/base.py:3655\u001b[0m, in \u001b[0;36mIndex.get_loc\u001b[0;34m(self, key)\u001b[0m\n\u001b[1;32m   3653\u001b[0m     \u001b[38;5;28;01mreturn\u001b[39;00m \u001b[38;5;28mself\u001b[39m\u001b[38;5;241m.\u001b[39m_engine\u001b[38;5;241m.\u001b[39mget_loc(casted_key)\n\u001b[1;32m   3654\u001b[0m \u001b[38;5;28;01mexcept\u001b[39;00m \u001b[38;5;167;01mKeyError\u001b[39;00m \u001b[38;5;28;01mas\u001b[39;00m err:\n\u001b[0;32m-> 3655\u001b[0m     \u001b[38;5;28;01mraise\u001b[39;00m \u001b[38;5;167;01mKeyError\u001b[39;00m(key) \u001b[38;5;28;01mfrom\u001b[39;00m \u001b[38;5;21;01merr\u001b[39;00m\n\u001b[1;32m   3656\u001b[0m \u001b[38;5;28;01mexcept\u001b[39;00m \u001b[38;5;167;01mTypeError\u001b[39;00m:\n\u001b[1;32m   3657\u001b[0m     \u001b[38;5;66;03m# If we have a listlike key, _check_indexing_error will raise\u001b[39;00m\n\u001b[1;32m   3658\u001b[0m     \u001b[38;5;66;03m#  InvalidIndexError. Otherwise we fall through and re-raise\u001b[39;00m\n\u001b[1;32m   3659\u001b[0m     \u001b[38;5;66;03m#  the TypeError.\u001b[39;00m\n\u001b[1;32m   3660\u001b[0m     \u001b[38;5;28mself\u001b[39m\u001b[38;5;241m.\u001b[39m_check_indexing_error(key)\n",
      "\u001b[0;31mKeyError\u001b[0m: -1"
     ]
    }
   ],
   "source": [
    "category_columns=[\"loan_amnt_level\",\"int_rate_level\",\"installment_level\",\"annual_inc_level\",\"dti_level\",\"term\",\"grade\",\"sub_grade\",\"emp_length\",\"home_ownership\",\n",
    "                  \"verification_status\",\"purpose\",'pub_rec','year','month']\n",
    "\n",
    "list2 = []\n",
    "for col in category_columns:\n",
    "    default_rates = df.groupby(col).loan_default.mean().sort_values(ascending=False)\n",
    "    #default_rates = default_rates.sort_values(ascending=False).reset_index(drop=True)\n",
    "    list1 = [col, round(default_rates[0] - default_rates[-1],2)]\n",
    "    list2.append(list1)\n",
    "#print(list2)\n",
    "df_impact = pd.DataFrame(list2, columns=['Category', 'Impact']) \n",
    "df_impact.sort_values(by=['Impact'], ascending=False)"
   ]
  },
  {
   "cell_type": "markdown",
   "id": "a526f35d",
   "metadata": {},
   "source": [
    "We can see that 'sub_grade' has the highest impact on default rates. Now we will see Bivariate analysis that is analyse 2 categorical variables with 'loan_default' rate. We will see other categorical variables in context with the highest impact variable 'sub_grade'."
   ]
  },
  {
   "cell_type": "code",
   "execution_count": 454,
   "id": "e6a1d1a6",
   "metadata": {},
   "outputs": [
    {
     "data": {
      "text/plain": [
       "<Axes: xlabel='grade', ylabel='count'>"
      ]
     },
     "execution_count": 454,
     "metadata": {},
     "output_type": "execute_result"
    },
    {
     "data": {
      "image/png": "[encoded data removed]",
      "text/plain": [
       "<Figure size 640x480 with 1 Axes>"
      ]
     },
     "metadata": {},
     "output_type": "display_data"
    }
   ],
   "source": [
    "sns.countplot(x=df[\"grade\"])"
   ]
  },
  {
   "cell_type": "code",
   "execution_count": 456,
   "id": "8b343fd5",
   "metadata": {},
   "outputs": [],
   "source": [
    "major_grades = [\"A\",\"B\",\"C\",\"D\"]\n",
    "df = df[df['grade'].isin(major_grades)]"
   ]
  },
  {
   "cell_type": "code",
   "execution_count": 458,
   "id": "64d091f2",
   "metadata": {},
   "outputs": [
    {
     "data": {
      "text/plain": [
       "<Axes: xlabel='purpose', ylabel='loan_default'>"
      ]
     },
     "execution_count": 458,
     "metadata": {},
     "output_type": "execute_result"
    },
    {
     "data": {
      "image/png": "[encoded data removed]",
      "text/plain": [
       "<Figure size 2000x500 with 1 Axes>"
      ]
     },
     "metadata": {},
     "output_type": "display_data"
    }
   ],
   "source": [
    "plt.figure(figsize=(20,5))\n",
    "plt.xticks(rotation=45)\n",
    "sns.barplot(x='purpose', y='loan_default', data=df, hue='grade')"
   ]
  },
  {
   "cell_type": "code",
   "execution_count": 459,
   "id": "a7829015",
   "metadata": {},
   "outputs": [
    {
     "data": {
      "text/plain": [
       "<Axes: xlabel='emp_length', ylabel='loan_default'>"
      ]
     },
     "execution_count": 459,
     "metadata": {},
     "output_type": "execute_result"
    },
    {
     "data": {
      "image/png": "[encoded data removed]",
      "text/plain": [
       "<Figure size 1000x500 with 1 Axes>"
      ]
     },
     "metadata": {},
     "output_type": "display_data"
    }
   ],
   "source": [
    "plt.figure(figsize=(10,5))\n",
    "sns.barplot(x='emp_length', y='loan_default', data=df, hue='grade')"
   ]
  },
  {
   "cell_type": "code",
   "execution_count": 409,
   "id": "8917fbf0",
   "metadata": {},
   "outputs": [
    {
     "data": {
      "text/plain": [
       "<Axes: xlabel='grade', ylabel='loan_default'>"
      ]
     },
     "execution_count": 409,
     "metadata": {},
     "output_type": "execute_result"
    },
    {
     "data": {
      "image/png": "[encoded data removed]",
      "text/plain": [
       "<Figure size 640x480 with 1 Axes>"
      ]
     },
     "metadata": {},
     "output_type": "display_data"
    }
   ],
   "source": [
    "sns.barplot(x='grade', y='loan_default', data=df)"
   ]
  }
 ],
 "metadata": {
  "kernelspec": {
   "display_name": "Python 3 (ipykernel)",
   "language": "python",
   "name": "python3"
  },
  "language_info": {
   "codemirror_mode": {
    "name": "ipython",
    "version": 3
   },
   "file_extension": ".py",
   "mimetype": "text/x-python",
   "name": "python",
   "nbconvert_exporter": "python",
   "pygments_lexer": "ipython3",
   "version": "3.11.5"
  }
 },
 "nbformat": 4,
 "nbformat_minor": 5
}
